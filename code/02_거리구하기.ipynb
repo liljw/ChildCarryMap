{
 "cells": [
  {
   "cell_type": "code",
   "execution_count": 2,
   "id": "5eacb761",
   "metadata": {},
   "outputs": [],
   "source": [
    "# !pip install haversine"
   ]
  },
  {
   "cell_type": "code",
   "execution_count": 1,
   "id": "09c76d69",
   "metadata": {},
   "outputs": [],
   "source": [
    "from IPython.core.interactiveshell import InteractiveShell\n",
    "InteractiveShell.ast_node_interactivity=\"all\""
   ]
  },
  {
   "cell_type": "code",
   "execution_count": 2,
   "id": "4c77ea66",
   "metadata": {},
   "outputs": [],
   "source": [
    "import pandas as pd\n",
    "import seaborn as sns\n",
    "import warnings\n",
    "warnings.filterwarnings('ignore')\n",
    "from haversine import haversine"
   ]
  },
  {
   "cell_type": "markdown",
   "id": "821c71b0",
   "metadata": {},
   "source": [
    "## data load"
   ]
  },
  {
   "cell_type": "code",
   "execution_count": 4,
   "id": "0590d479",
   "metadata": {},
   "outputs": [],
   "source": [
    "# 물놀이 장소 데이터\n",
    "wp_df = pd.read_csv('../../data/물놀이/WP.csv', encoding='utf-8')\n",
    "\n",
    "# 수유실 및 어린이 이용가능 공중화장실 데이터\n",
    "toilet_df = pd.read_csv('../../data/물놀이/Toilet.csv', encoding='utf-8')\n",
    "\n",
    "# 생활편의시설\n",
    "conv_df = pd.read_csv('../../data/물놀이/Conv.csv', encoding='utf-8')\n",
    "\n",
    "# 의료및의약시설 데이터\n",
    "medi_df = pd.read_csv('../../data/물놀이/Medi.csv', encoding='utf-8')\n",
    "\n",
    "# 안전시설_경찰및소방 데이터\n",
    "safe112_df = pd.read_csv('../../data/물놀이/Safe112.csv', encoding='utf-8')\n",
    "\n",
    "# 물놀이_서울시 소방서,안전센터,구조대 위치정보 데이터\n",
    "safe119_df = pd.read_csv('../../data/물놀이/Safe119.csv', encoding='utf-8')\n",
    "\n",
    "# 전국주차장 데이터\n",
    "parking_df = pd.read_csv('../../data/물놀이/Parking.csv', encoding='utf-8')"
   ]
  },
  {
   "cell_type": "markdown",
   "id": "4fffa707",
   "metadata": {},
   "source": [
    "## 변수 세팅"
   ]
  },
  {
   "cell_type": "code",
   "execution_count": 5,
   "id": "b1cab530",
   "metadata": {
    "collapsed": true
   },
   "outputs": [
    {
     "data": {
      "text/plain": [
       "1.0595134139525815"
      ]
     },
     "execution_count": 5,
     "metadata": {},
     "output_type": "execute_result"
    },
    {
     "data": {
      "text/plain": [
       "1.0007557218148433"
      ]
     },
     "execution_count": 5,
     "metadata": {},
     "output_type": "execute_result"
    },
    {
     "data": {
      "text/plain": [
       "1.0557283707087306"
      ]
     },
     "execution_count": 5,
     "metadata": {},
     "output_type": "execute_result"
    },
    {
     "data": {
      "text/plain": [
       "1.0007557225221673"
      ]
     },
     "execution_count": 5,
     "metadata": {},
     "output_type": "execute_result"
    }
   ],
   "source": [
    "# 서울 남쪽\n",
    "# 37.4357971,127.0143777\n",
    "a = (37.4357971, 127.0143777)  #Latitude, Longitude\n",
    "b = (37.4357971, 127.0143897)\n",
    "# 거리 계산\n",
    "haversine(a, b, unit = 'm')\n",
    "# 서울시 남쪽에서 경도 0.000012 당 약 1.06m 차이가 존재한다.\n",
    "\n",
    "a = (37.4357881, 127.0143777)  #Latitude, Longitude\n",
    "b = (37.4357971, 127.0143777)\n",
    "# 거리 계산\n",
    "haversine(a, b, unit = 'm')\n",
    "# 서울시 남쪽에서 위도 0.000009 당 약 1m 차이가 존재한다.\n",
    "\n",
    "\n",
    "# 서울 북쪽\n",
    "# 37.7023592,127.0532626\n",
    "a = (37.7023592, 127.0532626)  #Latitude, Longitude\n",
    "b = (37.7023592, 127.0532746)\n",
    "# 거리 계산\n",
    "haversine(a, b, unit = 'm')\n",
    "# 서울시 북쪽에서 경도 0.000012 당 약 1.06m 차이가 존재한다.\n",
    "\n",
    "a = (37.7023492, 127.0532626)  #Latitude, Longitude\n",
    "b = (37.7023582, 127.0532626)\n",
    "# 거리 계산\n",
    "haversine(a, b, unit = 'm')\n",
    "# 서울시 북쪽에서 위도 0.000009 당 약 1m 차이가 존재한다."
   ]
  },
  {
   "cell_type": "code",
   "execution_count": 6,
   "id": "641597a6",
   "metadata": {},
   "outputs": [],
   "source": [
    "# 위도 경도 1M에 대한 단위\n",
    "LO1M = 0.000009\n",
    "LA1M = 0.000012\n",
    "# 필터링 기준 거리\n",
    "TOILET_MAX_RANGE = 200\n",
    "CONV_MAX_RANGE = 600\n",
    "DRUG_MAX_RANGE = 600\n",
    "MEDI_MAX_RANGE = 1000\n",
    "SAFE112_MAX_RANGE = 1200\n",
    "SAFE119_MAX_RANGE = 1500\n",
    "PARKING_MAX_RANGE = 600"
   ]
  },
  {
   "cell_type": "code",
   "execution_count": 17,
   "id": "8ccc19e8",
   "metadata": {},
   "outputs": [],
   "source": [
    "faci_dict = {\n",
    "    'toilet' : [TOILET_MAX_RANGE, 'toiletid', 'toiletla', 'toiletlo', 'toilettype'], \n",
    "    'conv' : [CONV_MAX_RANGE, 'convid', 'convla', 'convlo', 'convtype'], \n",
    "    'drug' : [DRUG_MAX_RANGE, 'convid', 'convla', 'convlo', 'convtype'], \n",
    "    'medi' : [MEDI_MAX_RANGE, 'mediid', 'medila', 'medilo', 'meditype'], \n",
    "    'safe112' : [SAFE112_MAX_RANGE, 'safe112id', 'safe112la', 'safe112lo', 'safe112subtype'], \n",
    "    'safe119' : [SAFE119_MAX_RANGE, 'safe119id', 'safe119la', 'safe119lo', 'safe119subtype'], \n",
    "    'parking' : [PARKING_MAX_RANGE, 'parkingid', 'parkingla', 'parkinglo', 'parkingtype'], \n",
    "}"
   ]
  },
  {
   "cell_type": "markdown",
   "id": "e19a65bd",
   "metadata": {},
   "source": [
    "## 함수 정의\n",
    "- is_a_in_b\n",
    "    - point는 (위도, 경도) 를 갖는 파이썬 튜플/리스트 객체 \n",
    "    - a_point가 b_point 기준 +- (lo1m * max_range) 범위 안에 있는 경우 True 반환 \n",
    "- get_dist_df\n",
    "    - from_df의 물놀이장과 to_df 사이의 거리가 삽입된 dataframe을 반환 \n",
    "    - 열 정보\n",
    "        - 물놀이장의 일련번호 \n",
    "        - 물놀이장의 이름 \n",
    "        - 편의시설의 id\n",
    "        - 편의시설의 type\n",
    "        - 편의시설의 subtype\n",
    "        - 물놀이장과 편의시설 사이의 거리 "
   ]
  },
  {
   "cell_type": "code",
   "execution_count": 21,
   "id": "b13783f0",
   "metadata": {},
   "outputs": [],
   "source": [
    "def is_a_in_b(a_point, b_point, lo1m, la1m, max_range):\n",
    "    LO_RANGE = b_point[0] - lo1m * max_range, b_point[0] + lo1m * max_range\n",
    "    LA_RANGE = b_point[1] - la1m * max_range, b_point[1] + la1m * max_range\n",
    "    \n",
    "    # point : (위도, 경도)\n",
    "    if (a_point[0] > LO_RANGE[0]) and (a_point[0] < LO_RANGE[1]):\n",
    "        if (a_point[1] > LA_RANGE[0]) and (a_point[1] < LA_RANGE[1]):\n",
    "            return True\n",
    "    return False"
   ]
  },
  {
   "cell_type": "code",
   "execution_count": 22,
   "id": "4e37ea91",
   "metadata": {},
   "outputs": [],
   "source": [
    "def get_dist_df(from_df, to_df, faci_name):\n",
    "    wpid = 0\n",
    "    MAX_RANGE = faci_dict[faci_name][0]\n",
    "    \n",
    "    dist_df = pd.DataFrame(columns = [\n",
    "        'distwpnumber',\n",
    "        'distwpname',\n",
    "        'distfaciid',\n",
    "        'distfacitype',\n",
    "        'distfacisubtype',\n",
    "        'distdist',\n",
    "    ])\n",
    "    \n",
    "    for i in range(len(from_df)):\n",
    "        from_row = from_df.iloc[i]\n",
    "        from_name, from_point = from_row['waterplayname'], (from_row['waterplayla'], from_row['waterplaylo'])\n",
    "        \n",
    "        for j in range(len(to_df)):\n",
    "            to_row = to_df.iloc[j]\n",
    "            to_id, to_la, to_lo, to_type = to_row[faci_dict[faci_name][1:]]\n",
    "            to_point = to_la, to_lo\n",
    "            \n",
    "            if is_a_in_b(from_point, to_point, LO1M, LA1M, MAX_RANGE):\n",
    "                dist_ab = haversine(from_point, to_point, unit = 'm')\n",
    "                \n",
    "                if dist_ab < MAX_RANGE:\n",
    "                    dist_df.loc[wpid] = [i, from_name, to_id, faci_name, to_type, int(dist_ab)]\n",
    "                    wpid += 1\n",
    "        \n",
    "    print(\"sucess \", faci_name)\n",
    "                    \n",
    "    return dist_df"
   ]
  },
  {
   "cell_type": "code",
   "execution_count": 23,
   "id": "301fa747",
   "metadata": {
    "scrolled": true
   },
   "outputs": [],
   "source": [
    "# test\n",
    "# get_dist_df(wp_df, safe119_df, 'safe119')"
   ]
  },
  {
   "cell_type": "markdown",
   "id": "89edd153",
   "metadata": {},
   "source": [
    "## 화장실 거리 결정\n",
    "- 200m 또는 300m\n",
    "- 분포를 보고 결정"
   ]
  },
  {
   "cell_type": "code",
   "execution_count": 32,
   "id": "df9bdf97",
   "metadata": {},
   "outputs": [
    {
     "name": "stdout",
     "output_type": "stream",
     "text": [
      "sucess  toilet\n"
     ]
    }
   ],
   "source": [
    "# 화장실 단위거리가 300m인 경우\n",
    "TOILET_MAX_RANGE = 300\n",
    "faci_dict = {\n",
    "    'toilet' : [TOILET_MAX_RANGE, 'toiletid', 'toiletla', 'toiletlo', 'toilettype'], \n",
    "}\n",
    "_distdf_toilet_300 = get_dist_df(wp_df, toilet_df, 'toilet')\n",
    "\n",
    "# 화장실 단위거리가 200m인 경우\n",
    "TOILET_MAX_RANGE = 200\n",
    "faci_dict = {\n",
    "    'toilet' : [TOILET_MAX_RANGE, 'toiletid', 'toiletla', 'toiletlo', 'toilettype'], \n",
    "    'conv' : [CONV_MAX_RANGE, 'convid', 'convla', 'convlo', 'convtype'], \n",
    "    'drug' : [DRUG_MAX_RANGE, 'convid', 'convla', 'convlo', 'convtype'], \n",
    "    'medi' : [MEDI_MAX_RANGE, 'mediid', 'medila', 'medilo', 'meditype'], \n",
    "    'safe112' : [SAFE112_MAX_RANGE, 'safe112id', 'safe112la', 'safe112lo', 'safe112subtype'], \n",
    "    'safe119' : [SAFE119_MAX_RANGE, 'safe119id', 'safe119la', 'safe119lo', 'safe119subtype'], \n",
    "    'parking' : [PARKING_MAX_RANGE, 'parkingid', 'parkingla', 'parkinglo', 'parkingtype'], \n",
    "}\n",
    "_distdf_toilet_200 = get_dist_df(wp_df, toilet_df, 'toilet')"
   ]
  },
  {
   "cell_type": "code",
   "execution_count": 35,
   "id": "6e64bd55",
   "metadata": {
    "scrolled": false
   },
   "outputs": [
    {
     "data": {
      "text/plain": [
       "404"
      ]
     },
     "execution_count": 35,
     "metadata": {},
     "output_type": "execute_result"
    },
    {
     "data": {
      "text/html": [
       "<div>\n",
       "<style scoped>\n",
       "    .dataframe tbody tr th:only-of-type {\n",
       "        vertical-align: middle;\n",
       "    }\n",
       "\n",
       "    .dataframe tbody tr th {\n",
       "        vertical-align: top;\n",
       "    }\n",
       "\n",
       "    .dataframe thead th {\n",
       "        text-align: right;\n",
       "    }\n",
       "</style>\n",
       "<table border=\"1\" class=\"dataframe\">\n",
       "  <thead>\n",
       "    <tr style=\"text-align: right;\">\n",
       "      <th></th>\n",
       "      <th>distwpnumber</th>\n",
       "      <th>distwpname</th>\n",
       "      <th>distfaciid</th>\n",
       "      <th>distfacitype</th>\n",
       "      <th>distfacisubtype</th>\n",
       "      <th>distdist</th>\n",
       "    </tr>\n",
       "  </thead>\n",
       "  <tbody>\n",
       "    <tr>\n",
       "      <th>0</th>\n",
       "      <td>0</td>\n",
       "      <td>서울식물원 물놀이터</td>\n",
       "      <td>KCKIFPO22N000002472</td>\n",
       "      <td>toilet</td>\n",
       "      <td>공중화장실</td>\n",
       "      <td>0</td>\n",
       "    </tr>\n",
       "    <tr>\n",
       "      <th>1</th>\n",
       "      <td>0</td>\n",
       "      <td>서울식물원 물놀이터</td>\n",
       "      <td>KCKIFPO22N000002473</td>\n",
       "      <td>toilet</td>\n",
       "      <td>공중화장실</td>\n",
       "      <td>0</td>\n",
       "    </tr>\n",
       "    <tr>\n",
       "      <th>2</th>\n",
       "      <td>0</td>\n",
       "      <td>서울식물원 물놀이터</td>\n",
       "      <td>KCKIFPO22N000002474</td>\n",
       "      <td>toilet</td>\n",
       "      <td>공중화장실</td>\n",
       "      <td>0</td>\n",
       "    </tr>\n",
       "    <tr>\n",
       "      <th>3</th>\n",
       "      <td>0</td>\n",
       "      <td>서울식물원 물놀이터</td>\n",
       "      <td>KCKIFPO22N000002475</td>\n",
       "      <td>toilet</td>\n",
       "      <td>공중화장실</td>\n",
       "      <td>0</td>\n",
       "    </tr>\n",
       "    <tr>\n",
       "      <th>4</th>\n",
       "      <td>0</td>\n",
       "      <td>서울식물원 물놀이터</td>\n",
       "      <td>KCKIFPO22N000002476</td>\n",
       "      <td>toilet</td>\n",
       "      <td>공중화장실</td>\n",
       "      <td>0</td>\n",
       "    </tr>\n",
       "  </tbody>\n",
       "</table>\n",
       "</div>"
      ],
      "text/plain": [
       "   distwpnumber  distwpname           distfaciid distfacitype distfacisubtype  \\\n",
       "0             0  서울식물원 물놀이터  KCKIFPO22N000002472       toilet           공중화장실   \n",
       "1             0  서울식물원 물놀이터  KCKIFPO22N000002473       toilet           공중화장실   \n",
       "2             0  서울식물원 물놀이터  KCKIFPO22N000002474       toilet           공중화장실   \n",
       "3             0  서울식물원 물놀이터  KCKIFPO22N000002475       toilet           공중화장실   \n",
       "4             0  서울식물원 물놀이터  KCKIFPO22N000002476       toilet           공중화장실   \n",
       "\n",
       "   distdist  \n",
       "0         0  \n",
       "1         0  \n",
       "2         0  \n",
       "3         0  \n",
       "4         0  "
      ]
     },
     "execution_count": 35,
     "metadata": {},
     "output_type": "execute_result"
    },
    {
     "data": {
      "text/plain": [
       "211"
      ]
     },
     "execution_count": 35,
     "metadata": {},
     "output_type": "execute_result"
    },
    {
     "data": {
      "text/html": [
       "<div>\n",
       "<style scoped>\n",
       "    .dataframe tbody tr th:only-of-type {\n",
       "        vertical-align: middle;\n",
       "    }\n",
       "\n",
       "    .dataframe tbody tr th {\n",
       "        vertical-align: top;\n",
       "    }\n",
       "\n",
       "    .dataframe thead th {\n",
       "        text-align: right;\n",
       "    }\n",
       "</style>\n",
       "<table border=\"1\" class=\"dataframe\">\n",
       "  <thead>\n",
       "    <tr style=\"text-align: right;\">\n",
       "      <th></th>\n",
       "      <th>distwpnumber</th>\n",
       "      <th>distwpname</th>\n",
       "      <th>distfaciid</th>\n",
       "      <th>distfacitype</th>\n",
       "      <th>distfacisubtype</th>\n",
       "      <th>distdist</th>\n",
       "    </tr>\n",
       "  </thead>\n",
       "  <tbody>\n",
       "    <tr>\n",
       "      <th>0</th>\n",
       "      <td>0</td>\n",
       "      <td>서울식물원 물놀이터</td>\n",
       "      <td>KCKIFPO22N000002472</td>\n",
       "      <td>toilet</td>\n",
       "      <td>공중화장실</td>\n",
       "      <td>0</td>\n",
       "    </tr>\n",
       "    <tr>\n",
       "      <th>1</th>\n",
       "      <td>0</td>\n",
       "      <td>서울식물원 물놀이터</td>\n",
       "      <td>KCKIFPO22N000002473</td>\n",
       "      <td>toilet</td>\n",
       "      <td>공중화장실</td>\n",
       "      <td>0</td>\n",
       "    </tr>\n",
       "    <tr>\n",
       "      <th>2</th>\n",
       "      <td>0</td>\n",
       "      <td>서울식물원 물놀이터</td>\n",
       "      <td>KCKIFPO22N000002474</td>\n",
       "      <td>toilet</td>\n",
       "      <td>공중화장실</td>\n",
       "      <td>0</td>\n",
       "    </tr>\n",
       "    <tr>\n",
       "      <th>3</th>\n",
       "      <td>0</td>\n",
       "      <td>서울식물원 물놀이터</td>\n",
       "      <td>KCKIFPO22N000002475</td>\n",
       "      <td>toilet</td>\n",
       "      <td>공중화장실</td>\n",
       "      <td>0</td>\n",
       "    </tr>\n",
       "    <tr>\n",
       "      <th>4</th>\n",
       "      <td>0</td>\n",
       "      <td>서울식물원 물놀이터</td>\n",
       "      <td>KCKIFPO22N000002476</td>\n",
       "      <td>toilet</td>\n",
       "      <td>공중화장실</td>\n",
       "      <td>0</td>\n",
       "    </tr>\n",
       "  </tbody>\n",
       "</table>\n",
       "</div>"
      ],
      "text/plain": [
       "   distwpnumber  distwpname           distfaciid distfacitype distfacisubtype  \\\n",
       "0             0  서울식물원 물놀이터  KCKIFPO22N000002472       toilet           공중화장실   \n",
       "1             0  서울식물원 물놀이터  KCKIFPO22N000002473       toilet           공중화장실   \n",
       "2             0  서울식물원 물놀이터  KCKIFPO22N000002474       toilet           공중화장실   \n",
       "3             0  서울식물원 물놀이터  KCKIFPO22N000002475       toilet           공중화장실   \n",
       "4             0  서울식물원 물놀이터  KCKIFPO22N000002476       toilet           공중화장실   \n",
       "\n",
       "   distdist  \n",
       "0         0  \n",
       "1         0  \n",
       "2         0  \n",
       "3         0  \n",
       "4         0  "
      ]
     },
     "execution_count": 35,
     "metadata": {},
     "output_type": "execute_result"
    }
   ],
   "source": [
    "len(_distdf_toilet_300)\n",
    "_distdf_toilet_300.head()\n",
    "len(_distdf_toilet_200)\n",
    "_distdf_toilet_200.head()"
   ]
  },
  {
   "cell_type": "code",
   "execution_count": 38,
   "id": "3b00f2ff",
   "metadata": {},
   "outputs": [
    {
     "data": {
      "text/plain": [
       "0      10\n",
       "1       1\n",
       "3       6\n",
       "4       3\n",
       "5       9\n",
       "       ..\n",
       "134     1\n",
       "135     5\n",
       "136     1\n",
       "137     2\n",
       "138     1\n",
       "Name: distwpnumber, Length: 110, dtype: int64"
      ]
     },
     "execution_count": 38,
     "metadata": {},
     "output_type": "execute_result"
    },
    {
     "data": {
      "text/plain": [
       "0      9\n",
       "1      1\n",
       "3      3\n",
       "4      2\n",
       "5      6\n",
       "      ..\n",
       "129    1\n",
       "130    1\n",
       "132    1\n",
       "134    1\n",
       "135    3\n",
       "Name: distwpnumber, Length: 87, dtype: int64"
      ]
     },
     "execution_count": 38,
     "metadata": {},
     "output_type": "execute_result"
    }
   ],
   "source": [
    "_distdf_toilet_300['distwpnumber'].value_counts().sort_index()\n",
    "_distdf_toilet_200['distwpnumber'].value_counts().sort_index()\n",
    "# 단위거리가 300m인 경우\n",
    "# 140개의 물놀이장 중 110개의 물놀이장 근처에 화장실이 단위거리 내에 있음\n",
    "# 단위거리가 200m인 경우\n",
    "# 140개의 물놀이장 중 87개의 물놀이장 근처에 화장실이 단위거리 내에 있음\n",
    "# 따라서 화장실의 단위거리는 300m로 설정\n",
    "# 근거는 공원의 크기와 거리 데이터의 분포임"
   ]
  },
  {
   "cell_type": "code",
   "execution_count": null,
   "id": "662c124e",
   "metadata": {},
   "outputs": [],
   "source": []
  },
  {
   "cell_type": "markdown",
   "id": "28218b55",
   "metadata": {},
   "source": [
    "## dist.csv 생성"
   ]
  },
  {
   "cell_type": "code",
   "execution_count": 40,
   "id": "71bea4be",
   "metadata": {},
   "outputs": [],
   "source": [
    "TOILET_MAX_RANGE = 300\n",
    "faci_dict = {\n",
    "    'toilet' : [TOILET_MAX_RANGE, 'toiletid', 'toiletla', 'toiletlo', 'toilettype'], \n",
    "    'conv' : [CONV_MAX_RANGE, 'convid', 'convla', 'convlo', 'convtype'], \n",
    "    'drug' : [DRUG_MAX_RANGE, 'convid', 'convla', 'convlo', 'convtype'], \n",
    "    'medi' : [MEDI_MAX_RANGE, 'mediid', 'medila', 'medilo', 'meditype'], \n",
    "    'safe112' : [SAFE112_MAX_RANGE, 'safe112id', 'safe112la', 'safe112lo', 'safe112subtype'], \n",
    "    'safe119' : [SAFE119_MAX_RANGE, 'safe119id', 'safe119la', 'safe119lo', 'safe119subtype'], \n",
    "    'parking' : [PARKING_MAX_RANGE, 'parkingid', 'parkingla', 'parkinglo', 'parkingtype'], \n",
    "}"
   ]
  },
  {
   "cell_type": "code",
   "execution_count": 41,
   "id": "297844eb",
   "metadata": {},
   "outputs": [],
   "source": [
    "conv_df_conv = conv_df[conv_df['convtype'] == '편의점']\n",
    "conv_df_drug = conv_df[conv_df['convtype'] != '편의점']"
   ]
  },
  {
   "cell_type": "code",
   "execution_count": 42,
   "id": "d1ea9c5b",
   "metadata": {},
   "outputs": [
    {
     "name": "stdout",
     "output_type": "stream",
     "text": [
      "sucess  conv\n",
      "sucess  drug\n",
      "sucess  medi\n",
      "sucess  safe112\n",
      "sucess  safe119\n",
      "sucess  parking\n"
     ]
    }
   ],
   "source": [
    "result_df = pd.concat([\n",
    "#     get_dist_df(wp_df, toilet_df, 'toilet'),\n",
    "    _distdf_toilet_300,\n",
    "    get_dist_df(wp_df, conv_df_conv, 'conv'),\n",
    "    get_dist_df(wp_df, conv_df_drug, 'drug'),\n",
    "    get_dist_df(wp_df, medi_df, 'medi'),\n",
    "    get_dist_df(wp_df, safe112_df, 'safe112'),\n",
    "    get_dist_df(wp_df, safe119_df, 'safe119'),\n",
    "    get_dist_df(wp_df, parking_df, 'parking'),\n",
    "], ignore_index=True)"
   ]
  },
  {
   "cell_type": "code",
   "execution_count": 43,
   "id": "af9d3fdc",
   "metadata": {},
   "outputs": [
    {
     "data": {
      "text/html": [
       "<div>\n",
       "<style scoped>\n",
       "    .dataframe tbody tr th:only-of-type {\n",
       "        vertical-align: middle;\n",
       "    }\n",
       "\n",
       "    .dataframe tbody tr th {\n",
       "        vertical-align: top;\n",
       "    }\n",
       "\n",
       "    .dataframe thead th {\n",
       "        text-align: right;\n",
       "    }\n",
       "</style>\n",
       "<table border=\"1\" class=\"dataframe\">\n",
       "  <thead>\n",
       "    <tr style=\"text-align: right;\">\n",
       "      <th></th>\n",
       "      <th>distwpnumber</th>\n",
       "      <th>distwpname</th>\n",
       "      <th>distfaciid</th>\n",
       "      <th>distfacitype</th>\n",
       "      <th>distfacisubtype</th>\n",
       "      <th>distdist</th>\n",
       "    </tr>\n",
       "  </thead>\n",
       "  <tbody>\n",
       "    <tr>\n",
       "      <th>0</th>\n",
       "      <td>0</td>\n",
       "      <td>서울식물원 물놀이터</td>\n",
       "      <td>KCKIFPO22N000002472</td>\n",
       "      <td>toilet</td>\n",
       "      <td>공중화장실</td>\n",
       "      <td>0</td>\n",
       "    </tr>\n",
       "    <tr>\n",
       "      <th>1</th>\n",
       "      <td>0</td>\n",
       "      <td>서울식물원 물놀이터</td>\n",
       "      <td>KCKIFPO22N000002473</td>\n",
       "      <td>toilet</td>\n",
       "      <td>공중화장실</td>\n",
       "      <td>0</td>\n",
       "    </tr>\n",
       "    <tr>\n",
       "      <th>2</th>\n",
       "      <td>0</td>\n",
       "      <td>서울식물원 물놀이터</td>\n",
       "      <td>KCKIFPO22N000002474</td>\n",
       "      <td>toilet</td>\n",
       "      <td>공중화장실</td>\n",
       "      <td>0</td>\n",
       "    </tr>\n",
       "    <tr>\n",
       "      <th>3</th>\n",
       "      <td>0</td>\n",
       "      <td>서울식물원 물놀이터</td>\n",
       "      <td>KCKIFPO22N000002475</td>\n",
       "      <td>toilet</td>\n",
       "      <td>공중화장실</td>\n",
       "      <td>0</td>\n",
       "    </tr>\n",
       "    <tr>\n",
       "      <th>4</th>\n",
       "      <td>0</td>\n",
       "      <td>서울식물원 물놀이터</td>\n",
       "      <td>KCKIFPO22N000002476</td>\n",
       "      <td>toilet</td>\n",
       "      <td>공중화장실</td>\n",
       "      <td>0</td>\n",
       "    </tr>\n",
       "    <tr>\n",
       "      <th>...</th>\n",
       "      <td>...</td>\n",
       "      <td>...</td>\n",
       "      <td>...</td>\n",
       "      <td>...</td>\n",
       "      <td>...</td>\n",
       "      <td>...</td>\n",
       "    </tr>\n",
       "    <tr>\n",
       "      <th>22301</th>\n",
       "      <td>134</td>\n",
       "      <td>솔길어린이공원 물놀이장</td>\n",
       "      <td>KC490PC22N013244</td>\n",
       "      <td>parking</td>\n",
       "      <td>공영</td>\n",
       "      <td>482</td>\n",
       "    </tr>\n",
       "    <tr>\n",
       "      <th>22302</th>\n",
       "      <td>135</td>\n",
       "      <td>동작주차공원</td>\n",
       "      <td>KC490PC22N004183</td>\n",
       "      <td>parking</td>\n",
       "      <td>공영</td>\n",
       "      <td>91</td>\n",
       "    </tr>\n",
       "    <tr>\n",
       "      <th>22303</th>\n",
       "      <td>135</td>\n",
       "      <td>동작주차공원</td>\n",
       "      <td>KC490PC22N006174</td>\n",
       "      <td>parking</td>\n",
       "      <td>공영</td>\n",
       "      <td>317</td>\n",
       "    </tr>\n",
       "    <tr>\n",
       "      <th>22304</th>\n",
       "      <td>135</td>\n",
       "      <td>동작주차공원</td>\n",
       "      <td>KC490PC22N006175</td>\n",
       "      <td>parking</td>\n",
       "      <td>공영</td>\n",
       "      <td>317</td>\n",
       "    </tr>\n",
       "    <tr>\n",
       "      <th>22305</th>\n",
       "      <td>136</td>\n",
       "      <td>광나루 수영장</td>\n",
       "      <td>KC490PC22N006146</td>\n",
       "      <td>parking</td>\n",
       "      <td>공영</td>\n",
       "      <td>571</td>\n",
       "    </tr>\n",
       "  </tbody>\n",
       "</table>\n",
       "<p>22306 rows × 6 columns</p>\n",
       "</div>"
      ],
      "text/plain": [
       "       distwpnumber    distwpname           distfaciid distfacitype  \\\n",
       "0                 0    서울식물원 물놀이터  KCKIFPO22N000002472       toilet   \n",
       "1                 0    서울식물원 물놀이터  KCKIFPO22N000002473       toilet   \n",
       "2                 0    서울식물원 물놀이터  KCKIFPO22N000002474       toilet   \n",
       "3                 0    서울식물원 물놀이터  KCKIFPO22N000002475       toilet   \n",
       "4                 0    서울식물원 물놀이터  KCKIFPO22N000002476       toilet   \n",
       "...             ...           ...                  ...          ...   \n",
       "22301           134  솔길어린이공원 물놀이장     KC490PC22N013244      parking   \n",
       "22302           135        동작주차공원     KC490PC22N004183      parking   \n",
       "22303           135        동작주차공원     KC490PC22N006174      parking   \n",
       "22304           135        동작주차공원     KC490PC22N006175      parking   \n",
       "22305           136       광나루 수영장     KC490PC22N006146      parking   \n",
       "\n",
       "      distfacisubtype  distdist  \n",
       "0               공중화장실         0  \n",
       "1               공중화장실         0  \n",
       "2               공중화장실         0  \n",
       "3               공중화장실         0  \n",
       "4               공중화장실         0  \n",
       "...               ...       ...  \n",
       "22301              공영       482  \n",
       "22302              공영        91  \n",
       "22303              공영       317  \n",
       "22304              공영       317  \n",
       "22305              공영       571  \n",
       "\n",
       "[22306 rows x 6 columns]"
      ]
     },
     "execution_count": 43,
     "metadata": {},
     "output_type": "execute_result"
    }
   ],
   "source": [
    "result_df"
   ]
  },
  {
   "cell_type": "code",
   "execution_count": 46,
   "id": "8e7acea9",
   "metadata": {
    "scrolled": true
   },
   "outputs": [
    {
     "data": {
      "text/plain": [
       "404"
      ]
     },
     "execution_count": 46,
     "metadata": {},
     "output_type": "execute_result"
    },
    {
     "data": {
      "text/plain": [
       "2791"
      ]
     },
     "execution_count": 46,
     "metadata": {},
     "output_type": "execute_result"
    },
    {
     "data": {
      "text/plain": [
       "17881"
      ]
     },
     "execution_count": 46,
     "metadata": {},
     "output_type": "execute_result"
    },
    {
     "data": {
      "text/plain": [
       "383"
      ]
     },
     "execution_count": 46,
     "metadata": {},
     "output_type": "execute_result"
    },
    {
     "data": {
      "text/plain": [
       "362"
      ]
     },
     "execution_count": 46,
     "metadata": {},
     "output_type": "execute_result"
    },
    {
     "data": {
      "text/plain": [
       "317"
      ]
     },
     "execution_count": 46,
     "metadata": {},
     "output_type": "execute_result"
    }
   ],
   "source": [
    "# 길이 확인\n",
    "sum(result_df['distfacitype'] == 'toilet')\n",
    "sum(result_df['distfacitype'] == 'conv')\n",
    "sum(result_df['distfacitype'] == 'medi')\n",
    "sum(result_df['distfacitype'] == 'safe112')\n",
    "sum(result_df['distfacitype'] == 'safe119')\n",
    "sum(result_df['distfacitype'] == 'parking')"
   ]
  },
  {
   "cell_type": "code",
   "execution_count": 47,
   "id": "f5e79e80",
   "metadata": {},
   "outputs": [],
   "source": [
    "# dataframe 저장\n",
    "result_df.to_csv('../../data/물놀이/dist.csv', index=False, encoding='utf-8')\n",
    "result_df.to_csv('../../data/물놀이/dist_euc.csv', index=False, encoding='euc-kr')"
   ]
  },
  {
   "cell_type": "code",
   "execution_count": null,
   "id": "3894a3cc",
   "metadata": {},
   "outputs": [],
   "source": []
  }
 ],
 "metadata": {
  "kernelspec": {
   "display_name": "Python 3 (ipykernel)",
   "language": "python",
   "name": "python3"
  },
  "language_info": {
   "codemirror_mode": {
    "name": "ipython",
    "version": 3
   },
   "file_extension": ".py",
   "mimetype": "text/x-python",
   "name": "python",
   "nbconvert_exporter": "python",
   "pygments_lexer": "ipython3",
   "version": "3.10.9"
  }
 },
 "nbformat": 4,
 "nbformat_minor": 5
}

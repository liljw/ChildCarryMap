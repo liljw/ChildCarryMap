{
 "cells": [
  {
   "cell_type": "markdown",
   "id": "685f7c2b",
   "metadata": {},
   "source": [
    "# AI - 리뷰 데이터 크롤링\n",
    "- 리뷰 데이터로 긍/부정 판단하여 리뷰 긍/부정 비율 시각화\n",
    "- 리뷰 데이터로 자연어 처리 모델 이용하여 텍스트 분석 통해 키워드 추출하여 워드클라우드 시각화"
   ]
  },
  {
   "cell_type": "code",
   "execution_count": 1,
   "id": "0c0143c0",
   "metadata": {},
   "outputs": [],
   "source": [
    "from IPython.core.interactiveshell import InteractiveShell\n",
    "InteractiveShell.ast_node_interactivity=\"all\""
   ]
  },
  {
   "cell_type": "code",
   "execution_count": 2,
   "id": "3c96b72e",
   "metadata": {},
   "outputs": [],
   "source": [
    "# 경고 메시지 무시 설정\n",
    "import warnings\n",
    "warnings.filterwarnings(action='ignore')"
   ]
  },
  {
   "cell_type": "code",
   "execution_count": 26,
   "id": "ebae448f",
   "metadata": {},
   "outputs": [],
   "source": [
    "import pandas as pd\n",
    "import numpy as np\n",
    "from urllib.request import urlopen\n",
    "import bs4 \n",
    "from bs4 import BeautifulSoup\n",
    "import time"
   ]
  },
  {
   "cell_type": "code",
   "execution_count": 15,
   "id": "637b889b",
   "metadata": {},
   "outputs": [],
   "source": [
    "import selenium\n",
    "from selenium import webdriver\n",
    "from selenium.webdriver.common.by import By\n",
    "from selenium.webdriver import ActionChains\n",
    "\n",
    "from selenium.webdriver.chrome.service import Service\n",
    "from webdriver_manager.chrome import ChromeDriverManager"
   ]
  },
  {
   "cell_type": "markdown",
   "id": "7c9a8a3b",
   "metadata": {},
   "source": [
    "## 테스트 데이터 500개 수집\n",
    "- 임의의 물놀이장 선택하여 구글 지도 상의 리뷰 크롤링"
   ]
  },
  {
   "cell_type": "code",
   "execution_count": 78,
   "id": "87c92d62",
   "metadata": {},
   "outputs": [],
   "source": [
    "# (1) webdriver 객체 생성\n",
    "chrome_options = webdriver.ChromeOptions()\n",
    "driver = webdriver.Chrome(service=Service(ChromeDriverManager().install()), options=chrome_options)"
   ]
  },
  {
   "cell_type": "code",
   "execution_count": 172,
   "id": "fe34ff84",
   "metadata": {},
   "outputs": [],
   "source": [
    "# 구글 지도 url 가져와서 해당 웹페이지 열기\n",
    "\n",
    "url='https://www.google.com/maps/place/%EC%A4%91%EB%9E%91%EC%BA%A0%ED%95%91%EC%88%B2/data=!4m12!1m2!2m1!1z7KSR656R7Lqg7ZWR7IiyIOuwlOuLpeu2hOyImA!3m8!1s0x357cbb38383ab30d:0x945e7a977df31f60!8m2!3d37.6051748!4d127.1109266!9m1!1b1!15sChzspJHrnpHsuqDtlZHsiLIg67CU64ul67aE7IiYkgEKY2FtcGdyb3VuZOABAA!16s%2Fg%2F11rfs0s73t?authuser=0&entry=ttu'\n",
    "driver.get(url)"
   ]
  },
  {
   "cell_type": "code",
   "execution_count": 247,
   "id": "0cc522ca",
   "metadata": {},
   "outputs": [
    {
     "data": {
      "text/html": [
       "<div>\n",
       "<style scoped>\n",
       "    .dataframe tbody tr th:only-of-type {\n",
       "        vertical-align: middle;\n",
       "    }\n",
       "\n",
       "    .dataframe tbody tr th {\n",
       "        vertical-align: top;\n",
       "    }\n",
       "\n",
       "    .dataframe thead th {\n",
       "        text-align: right;\n",
       "    }\n",
       "</style>\n",
       "<table border=\"1\" class=\"dataframe\">\n",
       "  <thead>\n",
       "    <tr style=\"text-align: right;\">\n",
       "      <th></th>\n",
       "      <th>물놀이장</th>\n",
       "      <th>리뷰</th>\n",
       "    </tr>\n",
       "  </thead>\n",
       "  <tbody>\n",
       "    <tr>\n",
       "      <th>0</th>\n",
       "      <td>공 릉 동</td>\n",
       "      <td>깔끔하고 사람많고 어린아이들 놀기 좋아요.</td>\n",
       "    </tr>\n",
       "    <tr>\n",
       "      <th>1</th>\n",
       "      <td>공 릉 동</td>\n",
       "      <td>물놀이터 놀기 좋아요\\n주차장이 없어 불편하구요</td>\n",
       "    </tr>\n",
       "    <tr>\n",
       "      <th>2</th>\n",
       "      <td>공 릉 동</td>\n",
       "      <td>물놀이장으로 이용할 수 있는 놀이터와 화장실이 있어서 아이들과 가기 좋아요.\\n다만...</td>\n",
       "    </tr>\n",
       "    <tr>\n",
       "      <th>3</th>\n",
       "      <td>공 릉 동</td>\n",
       "      <td>물놀이 파크 부럽지 않고,\\n가깝고 아이들이 놀기 딱이네요</td>\n",
       "    </tr>\n",
       "    <tr>\n",
       "      <th>4</th>\n",
       "      <td>공 릉 동</td>\n",
       "      <td>농구 반코트 있음, 바닥이 잔디+흙 이라 드리블&amp;제동이 잘 안됨, 림 고정핀이 넷 ...</td>\n",
       "    </tr>\n",
       "    <tr>\n",
       "      <th>...</th>\n",
       "      <td>...</td>\n",
       "      <td>...</td>\n",
       "    </tr>\n",
       "    <tr>\n",
       "      <th>136</th>\n",
       "      <td>공 릉 동</td>\n",
       "      <td>좋아요</td>\n",
       "    </tr>\n",
       "    <tr>\n",
       "      <th>137</th>\n",
       "      <td>공 릉 동</td>\n",
       "      <td>공원은 그렇게 좋지 않습니다. 3면이 도로로 둘러싸여 있습니다. 그들은 최근에 '미...</td>\n",
       "    </tr>\n",
       "    <tr>\n",
       "      <th>138</th>\n",
       "      <td>공 릉 동</td>\n",
       "      <td>산책과 휴식을 취하기에 너무 좋은 곳입니다.</td>\n",
       "    </tr>\n",
       "    <tr>\n",
       "      <th>139</th>\n",
       "      <td>공 릉 동</td>\n",
       "      <td>많이 붐비지 않고 깨끗합니다</td>\n",
       "    </tr>\n",
       "    <tr>\n",
       "      <th>140</th>\n",
       "      <td>공 릉 동</td>\n",
       "      <td>거기에 있어야합니다</td>\n",
       "    </tr>\n",
       "  </tbody>\n",
       "</table>\n",
       "<p>141 rows × 2 columns</p>\n",
       "</div>"
      ],
      "text/plain": [
       "      물놀이장                                                 리뷰\n",
       "0    공 릉 동                            깔끔하고 사람많고 어린아이들 놀기 좋아요.\n",
       "1    공 릉 동                         물놀이터 놀기 좋아요\\n주차장이 없어 불편하구요\n",
       "2    공 릉 동  물놀이장으로 이용할 수 있는 놀이터와 화장실이 있어서 아이들과 가기 좋아요.\\n다만...\n",
       "3    공 릉 동                   물놀이 파크 부럽지 않고,\\n가깝고 아이들이 놀기 딱이네요\n",
       "4    공 릉 동  농구 반코트 있음, 바닥이 잔디+흙 이라 드리블&제동이 잘 안됨, 림 고정핀이 넷 ...\n",
       "..     ...                                                ...\n",
       "136  공 릉 동                                                좋아요\n",
       "137  공 릉 동  공원은 그렇게 좋지 않습니다. 3면이 도로로 둘러싸여 있습니다. 그들은 최근에 '미...\n",
       "138  공 릉 동                           산책과 휴식을 취하기에 너무 좋은 곳입니다.\n",
       "139  공 릉 동                                    많이 붐비지 않고 깨끗합니다\n",
       "140  공 릉 동                                         거기에 있어야합니다\n",
       "\n",
       "[141 rows x 2 columns]"
      ]
     },
     "execution_count": 247,
     "metadata": {},
     "output_type": "execute_result"
    }
   ],
   "source": [
    "# 데이터 추출 테스트\n",
    "\n",
    "contents_name = '공 릉 동'\n",
    "\n",
    "xpath = '//*[@tabindex=\"-1\"]/span[1]'\n",
    "boxes = driver.find_elements(By.XPATH, xpath)\n",
    "\n",
    "wp_name = []\n",
    "reviews = []\n",
    "\n",
    "for i, v in enumerate(boxes):\n",
    "    if v.text is '':\n",
    "        break\n",
    "    wp_name.append(contents_name)\n",
    "    reviews.append(v.text)\n",
    "    \n",
    "temp_df = pd.DataFrame({\n",
    "    '물놀이장' : wp_name,\n",
    "    '리뷰' : reviews\n",
    "})\n",
    "\n",
    "temp_df"
   ]
  },
  {
   "cell_type": "code",
   "execution_count": 248,
   "id": "b273bba1",
   "metadata": {},
   "outputs": [],
   "source": [
    "# 최종 데이터프레임 틀 생성\n",
    "\n",
    "# review_df = pd.DataFrame({\n",
    "#     '물놀이장' : [],\n",
    "#     '리뷰' : [],\n",
    "# })"
   ]
  },
  {
   "cell_type": "code",
   "execution_count": 249,
   "id": "bec9cc27",
   "metadata": {},
   "outputs": [
    {
     "data": {
      "text/html": [
       "<div>\n",
       "<style scoped>\n",
       "    .dataframe tbody tr th:only-of-type {\n",
       "        vertical-align: middle;\n",
       "    }\n",
       "\n",
       "    .dataframe tbody tr th {\n",
       "        vertical-align: top;\n",
       "    }\n",
       "\n",
       "    .dataframe thead th {\n",
       "        text-align: right;\n",
       "    }\n",
       "</style>\n",
       "<table border=\"1\" class=\"dataframe\">\n",
       "  <thead>\n",
       "    <tr style=\"text-align: right;\">\n",
       "      <th></th>\n",
       "      <th>물놀이장</th>\n",
       "      <th>리뷰</th>\n",
       "    </tr>\n",
       "  </thead>\n",
       "  <tbody>\n",
       "    <tr>\n",
       "      <th>0</th>\n",
       "      <td>희망어린이공원 계류</td>\n",
       "      <td>원래는 소귀어린이공원(잠자리놀이터)을 자주 이용했었는데... 벤치도 그렇고 미끄럼틀...</td>\n",
       "    </tr>\n",
       "    <tr>\n",
       "      <th>1</th>\n",
       "      <td>희망어린이공원 계류</td>\n",
       "      <td>풍경을바라보며쉴수있는좋은공간이에요</td>\n",
       "    </tr>\n",
       "    <tr>\n",
       "      <th>2</th>\n",
       "      <td>희망어린이공원 계류</td>\n",
       "      <td>공동 화장실이 있었음 좋겠어요~</td>\n",
       "    </tr>\n",
       "    <tr>\n",
       "      <th>3</th>\n",
       "      <td>희망어린이공원 계류</td>\n",
       "      <td>어린이들이 맘껏  뛰어놀수있는. 그런공간이네요</td>\n",
       "    </tr>\n",
       "    <tr>\n",
       "      <th>4</th>\n",
       "      <td>희망어린이공원 계류</td>\n",
       "      <td>어린이 놀이터가 있는 공원 - 화장실은 없다</td>\n",
       "    </tr>\n",
       "    <tr>\n",
       "      <th>...</th>\n",
       "      <td>...</td>\n",
       "      <td>...</td>\n",
       "    </tr>\n",
       "    <tr>\n",
       "      <th>2350</th>\n",
       "      <td>공 릉 동</td>\n",
       "      <td>좋아요</td>\n",
       "    </tr>\n",
       "    <tr>\n",
       "      <th>2351</th>\n",
       "      <td>공 릉 동</td>\n",
       "      <td>공원은 그렇게 좋지 않습니다. 3면이 도로로 둘러싸여 있습니다. 그들은 최근에 '미...</td>\n",
       "    </tr>\n",
       "    <tr>\n",
       "      <th>2352</th>\n",
       "      <td>공 릉 동</td>\n",
       "      <td>산책과 휴식을 취하기에 너무 좋은 곳입니다.</td>\n",
       "    </tr>\n",
       "    <tr>\n",
       "      <th>2353</th>\n",
       "      <td>공 릉 동</td>\n",
       "      <td>많이 붐비지 않고 깨끗합니다</td>\n",
       "    </tr>\n",
       "    <tr>\n",
       "      <th>2354</th>\n",
       "      <td>공 릉 동</td>\n",
       "      <td>거기에 있어야합니다</td>\n",
       "    </tr>\n",
       "  </tbody>\n",
       "</table>\n",
       "<p>2355 rows × 2 columns</p>\n",
       "</div>"
      ],
      "text/plain": [
       "            물놀이장                                                 리뷰\n",
       "0     희망어린이공원 계류  원래는 소귀어린이공원(잠자리놀이터)을 자주 이용했었는데... 벤치도 그렇고 미끄럼틀...\n",
       "1     희망어린이공원 계류                                 풍경을바라보며쉴수있는좋은공간이에요\n",
       "2     희망어린이공원 계류                                  공동 화장실이 있었음 좋겠어요~\n",
       "3     희망어린이공원 계류                          어린이들이 맘껏  뛰어놀수있는. 그런공간이네요\n",
       "4     희망어린이공원 계류                           어린이 놀이터가 있는 공원 - 화장실은 없다\n",
       "...          ...                                                ...\n",
       "2350       공 릉 동                                                좋아요\n",
       "2351       공 릉 동  공원은 그렇게 좋지 않습니다. 3면이 도로로 둘러싸여 있습니다. 그들은 최근에 '미...\n",
       "2352       공 릉 동                           산책과 휴식을 취하기에 너무 좋은 곳입니다.\n",
       "2353       공 릉 동                                    많이 붐비지 않고 깨끗합니다\n",
       "2354       공 릉 동                                         거기에 있어야합니다\n",
       "\n",
       "[2355 rows x 2 columns]"
      ]
     },
     "execution_count": 249,
     "metadata": {},
     "output_type": "execute_result"
    }
   ],
   "source": [
    "# 데이터프레임 concat해주기\n",
    "\n",
    "review_df = pd.concat([review_df, temp_df], axis=0, ignore_index=True)\n",
    "review_df"
   ]
  },
  {
   "cell_type": "code",
   "execution_count": 251,
   "id": "a06a3053",
   "metadata": {},
   "outputs": [],
   "source": [
    "# 리뷰 크롤링 데이터프레임 csv 파일로 저장\n",
    "\n",
    "review_df.to_csv('../data/물놀이/review_crawling.csv', index=False, encoding='utf-8')\n",
    "review_df.to_csv('../data/물놀이/review_crawling_normal.csv', index=False)"
   ]
  },
  {
   "cell_type": "code",
   "execution_count": null,
   "id": "45bb75b6",
   "metadata": {},
   "outputs": [],
   "source": []
  },
  {
   "cell_type": "code",
   "execution_count": 138,
   "id": "ff9609bc",
   "metadata": {},
   "outputs": [],
   "source": [
    "# elements[-1].rect\n",
    "# elements[-2].rect"
   ]
  },
  {
   "cell_type": "code",
   "execution_count": 139,
   "id": "5cd08b80",
   "metadata": {},
   "outputs": [],
   "source": [
    "# # 현재 스크롤 전체 길이 추출\n",
    "# driver.execute_script(\"return document.body.scrollHeight\")\n",
    "\n",
    "# # 현재 스크롤 좌표 추출\n",
    "# driver.execute_script(\"return window.pageYOffset\")\n",
    "\n",
    "# # 지정 좌표로 스크롤 이동\n",
    "# # driver.execute_script(\"window.scrollTo(500, 16)\")"
   ]
  },
  {
   "cell_type": "code",
   "execution_count": 140,
   "id": "b87e8637",
   "metadata": {},
   "outputs": [],
   "source": [
    "# # 특정한 element를 지정해서 그 위치까지 scroll\n",
    "\n",
    "# elements = driver.find_elements(By.CLASS_NAME, 'qCHGyb')\n",
    "\n",
    "# action = ActionChains(driver)\n",
    "# action.move_to_element(elements[-1]).perform()\n",
    "    "
   ]
  },
  {
   "cell_type": "code",
   "execution_count": 141,
   "id": "6335f93a",
   "metadata": {},
   "outputs": [],
   "source": [
    "# # 무한 스크롤 코드\n",
    "\n",
    "# SCROLL_PAUSE_SEC = 1\n",
    "\n",
    "# # 스크롤 높이 가져옴\n",
    "# last_height = driver.execute_script(\"return document.body.scrollHeight\")\n",
    "\n",
    "# while True:\n",
    "#     # 끝까지 스크롤 다운\n",
    "#     driver.execute_script(\"window.scrollTo(0, document.body.scrollHeight);\")\n",
    "\n",
    "#     # 1초 대기\n",
    "#     time.sleep(SCROLL_PAUSE_SEC)\n",
    "\n",
    "#     # 스크롤 다운 후 스크롤 높이 다시 가져옴\n",
    "#     new_height = driver.execute_script(\"return document.body.scrollHeight\")\n",
    "    \n",
    "#     if new_height == last_height:\n",
    "#         break\n",
    "#     last_height = new_height\n",
    "    "
   ]
  },
  {
   "cell_type": "code",
   "execution_count": 142,
   "id": "65c0412e",
   "metadata": {},
   "outputs": [],
   "source": [
    "# # 스크롤 이동 후 다시 추출 테스트\n",
    "\n",
    "# boxes = driver.find_elements(By.XPATH, xpath)\n",
    "\n",
    "# for i, v in enumerate(boxes):\n",
    "#     f'{i}번째 : {v.text}'"
   ]
  },
  {
   "cell_type": "code",
   "execution_count": 252,
   "id": "bc749457",
   "metadata": {},
   "outputs": [],
   "source": [
    "# driver 종료 \n",
    "\n",
    "driver.close()"
   ]
  }
 ],
 "metadata": {
  "kernelspec": {
   "display_name": "Python 3 (ipykernel)",
   "language": "python",
   "name": "python3"
  },
  "language_info": {
   "codemirror_mode": {
    "name": "ipython",
    "version": 3
   },
   "file_extension": ".py",
   "mimetype": "text/x-python",
   "name": "python",
   "nbconvert_exporter": "python",
   "pygments_lexer": "ipython3",
   "version": "3.10.10"
  }
 },
 "nbformat": 4,
 "nbformat_minor": 5
}

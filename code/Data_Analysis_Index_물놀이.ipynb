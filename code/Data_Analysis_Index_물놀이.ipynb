{
 "cells": [
  {
   "cell_type": "code",
   "execution_count": 87,
   "id": "2de30895",
   "metadata": {},
   "outputs": [],
   "source": [
    "from IPython.core.interactiveshell import InteractiveShell\n",
    "InteractiveShell.ast_node_interactivity=\"all\""
   ]
  },
  {
   "cell_type": "code",
   "execution_count": 2,
   "id": "123cb5c2",
   "metadata": {},
   "outputs": [],
   "source": [
    "import pandas as pd\n",
    "import numpy as np\n",
    "import seaborn as sns\n",
    "import matplotlib.pyplot as plt\n",
    "%matplotlib inline\n",
    "import warnings\n",
    "warnings.filterwarnings('ignore')"
   ]
  },
  {
   "cell_type": "code",
   "execution_count": 39,
   "id": "fcbd7fce",
   "metadata": {},
   "outputs": [],
   "source": [
    "from matplotlib import rc\n",
    "rc('font', family='AppleGothic')\n",
    "\n",
    "plt.rcParams['axes.unicode_minus'] = False"
   ]
  },
  {
   "cell_type": "markdown",
   "id": "22042cbb",
   "metadata": {},
   "source": [
    "## 만족거리와 시설별 민감도(k) 값 사이의 선형관계 분석"
   ]
  },
  {
   "cell_type": "code",
   "execution_count": 55,
   "id": "251f4ad1",
   "metadata": {},
   "outputs": [
    {
     "data": {
      "text/html": [
       "<div>\n",
       "<style scoped>\n",
       "    .dataframe tbody tr th:only-of-type {\n",
       "        vertical-align: middle;\n",
       "    }\n",
       "\n",
       "    .dataframe tbody tr th {\n",
       "        vertical-align: top;\n",
       "    }\n",
       "\n",
       "    .dataframe thead th {\n",
       "        text-align: right;\n",
       "    }\n",
       "</style>\n",
       "<table border=\"1\" class=\"dataframe\">\n",
       "  <thead>\n",
       "    <tr style=\"text-align: right;\">\n",
       "      <th></th>\n",
       "      <th>만족거리</th>\n",
       "      <th>K</th>\n",
       "    </tr>\n",
       "  </thead>\n",
       "  <tbody>\n",
       "    <tr>\n",
       "      <th>슈퍼 및 편의점</th>\n",
       "      <td>629</td>\n",
       "      <td>2.140</td>\n",
       "    </tr>\n",
       "    <tr>\n",
       "      <th>대형마트</th>\n",
       "      <td>1712</td>\n",
       "      <td>6.903</td>\n",
       "    </tr>\n",
       "    <tr>\n",
       "      <th>보육원</th>\n",
       "      <td>998</td>\n",
       "      <td>4.180</td>\n",
       "    </tr>\n",
       "    <tr>\n",
       "      <th>초등학교</th>\n",
       "      <td>1012</td>\n",
       "      <td>3.552</td>\n",
       "    </tr>\n",
       "    <tr>\n",
       "      <th>카페</th>\n",
       "      <td>987</td>\n",
       "      <td>4.040</td>\n",
       "    </tr>\n",
       "    <tr>\n",
       "      <th>세탁소</th>\n",
       "      <td>772</td>\n",
       "      <td>3.127</td>\n",
       "    </tr>\n",
       "    <tr>\n",
       "      <th>운동센터</th>\n",
       "      <td>902</td>\n",
       "      <td>3.414</td>\n",
       "    </tr>\n",
       "    <tr>\n",
       "      <th>ATM기</th>\n",
       "      <td>802</td>\n",
       "      <td>2.918</td>\n",
       "    </tr>\n",
       "    <tr>\n",
       "      <th>버스정류장</th>\n",
       "      <td>649</td>\n",
       "      <td>2.623</td>\n",
       "    </tr>\n",
       "    <tr>\n",
       "      <th>지하철</th>\n",
       "      <td>1058</td>\n",
       "      <td>4.960</td>\n",
       "    </tr>\n",
       "    <tr>\n",
       "      <th>병원</th>\n",
       "      <td>946</td>\n",
       "      <td>3.614</td>\n",
       "    </tr>\n",
       "    <tr>\n",
       "      <th>영화관</th>\n",
       "      <td>1937</td>\n",
       "      <td>7.446</td>\n",
       "    </tr>\n",
       "    <tr>\n",
       "      <th>도서관</th>\n",
       "      <td>1566</td>\n",
       "      <td>5.887</td>\n",
       "    </tr>\n",
       "    <tr>\n",
       "      <th>공원</th>\n",
       "      <td>1273</td>\n",
       "      <td>5.252</td>\n",
       "    </tr>\n",
       "    <tr>\n",
       "      <th>경찰서</th>\n",
       "      <td>1237</td>\n",
       "      <td>4.609</td>\n",
       "    </tr>\n",
       "    <tr>\n",
       "      <th>소방서</th>\n",
       "      <td>1499</td>\n",
       "      <td>5.522</td>\n",
       "    </tr>\n",
       "  </tbody>\n",
       "</table>\n",
       "</div>"
      ],
      "text/plain": [
       "          만족거리      K\n",
       "슈퍼 및 편의점   629  2.140\n",
       "대형마트      1712  6.903\n",
       "보육원        998  4.180\n",
       "초등학교      1012  3.552\n",
       "카페         987  4.040\n",
       "세탁소        772  3.127\n",
       "운동센터       902  3.414\n",
       "ATM기       802  2.918\n",
       "버스정류장      649  2.623\n",
       "지하철       1058  4.960\n",
       "병원         946  3.614\n",
       "영화관       1937  7.446\n",
       "도서관       1566  5.887\n",
       "공원        1273  5.252\n",
       "경찰서       1237  4.609\n",
       "소방서       1499  5.522"
      ]
     },
     "execution_count": 55,
     "metadata": {},
     "output_type": "execute_result"
    }
   ],
   "source": [
    "# 데이터프레임의 형태로 만들기\n",
    "\n",
    "facilities = ['슈퍼 및 편의점', '대형마트', '보육원', \n",
    "              '초등학교', '카페', '세탁소', '운동센터', 'ATM기', \n",
    "              '버스정류장', '지하철', '병원', '영화관', '도서관', \n",
    "              '공원', '경찰서', '소방서']\n",
    "\n",
    "dict1 = {\n",
    "    '만족거리' : [629, 1712, 998, 1012, 987, 772, 902, 802, 649, 1058, 946, 1937, 1566, 1273, 1237, 1499],\n",
    "    'K' : [2.140, 6.903, 4.180, 3.552, 4.040, 3.127, 3.414, 2.918, 2.623, 4.960, 3.614, 7.446, 5.887, 5.252, 4.609, 5.522]\n",
    "}\n",
    "\n",
    "k_df = pd.DataFrame(dict1, index=facilities)\n",
    "\n",
    "k_df"
   ]
  },
  {
   "cell_type": "code",
   "execution_count": 56,
   "id": "315780b3",
   "metadata": {},
   "outputs": [
    {
     "data": {
      "image/png": "[encoded data removed]",
      "text/plain": [
       "<Figure size 600x400 with 1 Axes>"
      ]
     },
     "metadata": {},
     "output_type": "display_data"
    }
   ],
   "source": [
    "# 산점도 그리기\n",
    "\n",
    "plt.figure(figsize=(6,4))\n",
    "plt.scatter(x=k_df['만족거리'], y=k_df['K'])\n",
    "plt.xlabel('만족거리')\n",
    "plt.ylabel('K', rotation='horizontal')\n",
    "\n",
    "plt.show()"
   ]
  },
  {
   "cell_type": "code",
   "execution_count": 57,
   "id": "c7004e33",
   "metadata": {},
   "outputs": [
    {
     "data": {
      "text/plain": [
       "<Figure size 600x400 with 0 Axes>"
      ]
     },
     "metadata": {},
     "output_type": "display_data"
    },
    {
     "data": {
      "image/png": "[encoded data removed]",
      "text/plain": [
       "<Figure size 500x500 with 1 Axes>"
      ]
     },
     "metadata": {},
     "output_type": "display_data"
    }
   ],
   "source": [
    "# 회귀선 그리기\n",
    "\n",
    "plt.figure(figsize=(6,4))\n",
    "sns.set_style('darkgrid')\n",
    "sns.lmplot(x='만족거리', y='K', data=k_df, palette='Set1', height=5)\n",
    "plt.show()"
   ]
  },
  {
   "cell_type": "code",
   "execution_count": 84,
   "id": "565006fc",
   "metadata": {},
   "outputs": [],
   "source": [
    "# 회귀분석 \n",
    "\n",
    "from sklearn.linear_model import LinearRegression\n",
    "from sklearn.model_selection import train_test_split\n",
    "from sklearn.metrics import accuracy_score\n",
    "\n",
    "lr_clf = LinearRegression()"
   ]
  },
  {
   "cell_type": "code",
   "execution_count": 85,
   "id": "23609d1f",
   "metadata": {},
   "outputs": [],
   "source": [
    "# train, test 데이터 수동으로 분리\n",
    "\n",
    "X_train = np.array(k_df['만족거리']).reshape(len(k_df), 1)  # X_train\n",
    "y_train = np.array(k_df['K']).reshape(len(k_df), 1)  # Y_train\n",
    "X_test = np.array([1,]).reshape(-1, 1)\n",
    "y_test = np.array([1,]).reshape(-1, 1)"
   ]
  },
  {
   "cell_type": "code",
   "execution_count": 86,
   "id": "61b367c3",
   "metadata": {},
   "outputs": [
    {
     "data": {
      "text/plain": [
       "array([[1.1945395]])"
      ]
     },
     "execution_count": 86,
     "metadata": {},
     "output_type": "execute_result"
    }
   ],
   "source": [
    "# 학습 및 예측\n",
    "\n",
    "lr_clf.fit(X_train, y_train)\n",
    "y_pred = lr_clf.predict(np.array([300,]).reshape(-1, 1))\n",
    "y_pred"
   ]
  },
  {
   "cell_type": "code",
   "execution_count": 88,
   "id": "a2b0839a",
   "metadata": {},
   "outputs": [
    {
     "data": {
      "text/plain": [
       "array([[1.1945395]])"
      ]
     },
     "execution_count": 88,
     "metadata": {},
     "output_type": "execute_result"
    },
    {
     "data": {
      "text/plain": [
       "array([[3.13225738]])"
      ]
     },
     "execution_count": 88,
     "metadata": {},
     "output_type": "execute_result"
    }
   ],
   "source": [
    "# k값\n",
    "lr_clf.coef_ * 300 + lr_clf.intercept_  \n",
    "lr_clf.coef_ * 800 + lr_clf.intercept_  "
   ]
  },
  {
   "cell_type": "code",
   "execution_count": null,
   "id": "068dbbec",
   "metadata": {},
   "outputs": [],
   "source": []
  }
 ],
 "metadata": {
  "kernelspec": {
   "display_name": "Python 3 (ipykernel)",
   "language": "python",
   "name": "python3"
  },
  "language_info": {
   "codemirror_mode": {
    "name": "ipython",
    "version": 3
   },
   "file_extension": ".py",
   "mimetype": "text/x-python",
   "name": "python",
   "nbconvert_exporter": "python",
   "pygments_lexer": "ipython3",
   "version": "3.10.10"
  }
 },
 "nbformat": 4,
 "nbformat_minor": 5
}
